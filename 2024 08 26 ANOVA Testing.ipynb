{
 "cells": [
  {
   "cell_type": "code",
   "execution_count": 54,
   "id": "3ef391ed-e434-4073-8d87-dd01a1effeb9",
   "metadata": {},
   "outputs": [],
   "source": [
    "# Data Processing\n",
    "import pandas as pd\n",
    "import numpy as np\n",
    "\n",
    "# Stats & Machine Learning\n",
    "import scipy.stats as stats\n",
    "import sklearn as skl\n",
    "\n",
    "# Visualizations\n",
    "import matplotlib.pyplot as plt\n",
    "import seaborn as sns\n",
    "\n",
    "# Mute Warnings\n",
    "import warnings\n",
    "warnings.filterwarnings('ignore')"
   ]
  },
  {
   "cell_type": "code",
   "execution_count": 2,
   "id": "a8e5872b-4374-41e1-bcdb-2d810b2258b3",
   "metadata": {},
   "outputs": [],
   "source": [
    "df = pd.read_csv(r'C:\\Users\\cg\\Desktop\\dota2heroes.csv')"
   ]
  },
  {
   "cell_type": "code",
   "execution_count": 8,
   "id": "b6df1374-6a58-47d1-816c-b4054d6611cc",
   "metadata": {},
   "outputs": [],
   "source": [
    "df = df[['TotalStrength', 'TotalAgility', 'TotalIntelligence', 'Category']]"
   ]
  },
  {
   "cell_type": "code",
   "execution_count": 9,
   "id": "ee62b4f4-d712-4baa-b261-27c5ac9dd85b",
   "metadata": {},
   "outputs": [
    {
     "name": "stdout",
     "output_type": "stream",
     "text": [
      "<class 'pandas.core.frame.DataFrame'>\n",
      "RangeIndex: 120 entries, 0 to 119\n",
      "Data columns (total 4 columns):\n",
      " #   Column             Non-Null Count  Dtype  \n",
      "---  ------             --------------  -----  \n",
      " 0   TotalStrength      120 non-null    float64\n",
      " 1   TotalAgility       120 non-null    float64\n",
      " 2   TotalIntelligence  120 non-null    float64\n",
      " 3   Category           120 non-null    object \n",
      "dtypes: float64(3), object(1)\n",
      "memory usage: 3.9+ KB\n"
     ]
    }
   ],
   "source": [
    "df.info()"
   ]
  },
  {
   "cell_type": "code",
   "execution_count": 12,
   "id": "e79726e8-7868-4a3b-b2f4-232b836f6806",
   "metadata": {},
   "outputs": [
    {
     "data": {
      "text/html": [
       "<div>\n",
       "<style scoped>\n",
       "    .dataframe tbody tr th:only-of-type {\n",
       "        vertical-align: middle;\n",
       "    }\n",
       "\n",
       "    .dataframe tbody tr th {\n",
       "        vertical-align: top;\n",
       "    }\n",
       "\n",
       "    .dataframe thead th {\n",
       "        text-align: right;\n",
       "    }\n",
       "</style>\n",
       "<table border=\"1\" class=\"dataframe\">\n",
       "  <thead>\n",
       "    <tr style=\"text-align: right;\">\n",
       "      <th></th>\n",
       "      <th>TotalStrength</th>\n",
       "      <th>TotalAgility</th>\n",
       "      <th>TotalIntelligence</th>\n",
       "    </tr>\n",
       "  </thead>\n",
       "  <tbody>\n",
       "    <tr>\n",
       "      <th>count</th>\n",
       "      <td>120.000000</td>\n",
       "      <td>120.000000</td>\n",
       "      <td>120.000000</td>\n",
       "    </tr>\n",
       "    <tr>\n",
       "      <th>mean</th>\n",
       "      <td>24.002500</td>\n",
       "      <td>20.210833</td>\n",
       "      <td>22.215833</td>\n",
       "    </tr>\n",
       "    <tr>\n",
       "      <th>std</th>\n",
       "      <td>3.368601</td>\n",
       "      <td>5.128824</td>\n",
       "      <td>4.582135</td>\n",
       "    </tr>\n",
       "    <tr>\n",
       "      <th>min</th>\n",
       "      <td>16.200000</td>\n",
       "      <td>0.000000</td>\n",
       "      <td>13.800000</td>\n",
       "    </tr>\n",
       "    <tr>\n",
       "      <th>25%</th>\n",
       "      <td>21.350000</td>\n",
       "      <td>16.775000</td>\n",
       "      <td>18.525000</td>\n",
       "    </tr>\n",
       "    <tr>\n",
       "      <th>50%</th>\n",
       "      <td>23.750000</td>\n",
       "      <td>20.050000</td>\n",
       "      <td>21.800000</td>\n",
       "    </tr>\n",
       "    <tr>\n",
       "      <th>75%</th>\n",
       "      <td>26.425000</td>\n",
       "      <td>24.325000</td>\n",
       "      <td>25.550000</td>\n",
       "    </tr>\n",
       "    <tr>\n",
       "      <th>max</th>\n",
       "      <td>32.100000</td>\n",
       "      <td>36.800000</td>\n",
       "      <td>34.200000</td>\n",
       "    </tr>\n",
       "  </tbody>\n",
       "</table>\n",
       "</div>"
      ],
      "text/plain": [
       "       TotalStrength  TotalAgility  TotalIntelligence\n",
       "count     120.000000    120.000000         120.000000\n",
       "mean       24.002500     20.210833          22.215833\n",
       "std         3.368601      5.128824           4.582135\n",
       "min        16.200000      0.000000          13.800000\n",
       "25%        21.350000     16.775000          18.525000\n",
       "50%        23.750000     20.050000          21.800000\n",
       "75%        26.425000     24.325000          25.550000\n",
       "max        32.100000     36.800000          34.200000"
      ]
     },
     "execution_count": 12,
     "metadata": {},
     "output_type": "execute_result"
    }
   ],
   "source": [
    "df.describe()"
   ]
  },
  {
   "cell_type": "code",
   "execution_count": 107,
   "id": "b3d16356-0f86-4a69-993c-29f74ff2347f",
   "metadata": {},
   "outputs": [
    {
     "data": {
      "text/plain": [
       "<Axes: xlabel='Category', ylabel='TotalStrength'>"
      ]
     },
     "execution_count": 107,
     "metadata": {},
     "output_type": "execute_result"
    },
    {
     "data": {
      "image/png": "[encoded data removed]",
      "text/plain": [
       "<Figure size 640x480 with 1 Axes>"
      ]
     },
     "metadata": {},
     "output_type": "display_data"
    }
   ],
   "source": [
    "sns.boxplot(data=df, x=\"Category\", y=\"TotalStrength\")"
   ]
  },
  {
   "cell_type": "markdown",
   "id": "4102747f-6a0d-4c34-a953-64cd521ff65b",
   "metadata": {},
   "source": [
    "# ANALYSIS OF VARIANCE (ANOVA)"
   ]
  },
  {
   "cell_type": "code",
   "execution_count": 108,
   "id": "8b6215c7-d61e-4cc7-905e-0cca7161987f",
   "metadata": {},
   "outputs": [],
   "source": [
    "from scipy import stats"
   ]
  },
  {
   "cell_type": "markdown",
   "id": "bc42d87a-24b4-45a3-91a5-195fd6aa7fb1",
   "metadata": {},
   "source": [
    "ANOVA uses Categorical variables to try and predict continuous ones.\n",
    "\n",
    "Null Hypothesis - The mean Strength of all categories are equal.\n",
    "\n",
    "Alternative Hypothesis - The mean Strength of at least one category is different.\n",
    "\n",
    "Significance Level - .05"
   ]
  },
  {
   "cell_type": "code",
   "execution_count": 164,
   "id": "e99da95a-910f-45f0-ae74-1d60da0d2b55",
   "metadata": {},
   "outputs": [
    {
     "name": "stdout",
     "output_type": "stream",
     "text": [
      "24.0\n"
     ]
    }
   ],
   "source": [
    "# Calculate Mean Strength of All Categories\n",
    "allmean = round(df['TotalStrength'].mean(), 2)\n",
    "print(allmean)"
   ]
  },
  {
   "cell_type": "code",
   "execution_count": 162,
   "id": "4c0ea7ac-73a6-40bd-aa7f-201f04ce46e7",
   "metadata": {},
   "outputs": [
    {
     "name": "stdout",
     "output_type": "stream",
     "text": [
      "Mean Strength for Strength Category: 26.93\n",
      "Standard Deviation of Strength for Strength Category: 2.43\n",
      "26.93 is higher than the 24.0 mean of all categories.\n",
      "\n",
      "Mean Strength for Agility Category: 22.22\n",
      "Standard Deviation of Strength for Agility Category: 2.75\n",
      "22.22 is lower than the 24.0 mean of all categories.\n",
      "\n",
      "Mean Strength for Intelligence Category: 22.93\n",
      "Standard Deviation of Strength for Intelligence Category: 2.85\n",
      "22.93 is lower than the 24.0 mean of all categories.\n",
      "\n"
     ]
    }
   ],
   "source": [
    "def calc_category_mean(list):\n",
    "    for i in list:\n",
    "        print(f'Mean Strength for {i} Category: {round(df[df['Category'] == i]['TotalStrength'].mean(), 2)}')\n",
    "        print(f'Standard Deviation of Strength for {i} Category: {round(df[df['Category'] == i]['TotalStrength'].std(), 2)}')\n",
    "        if round(df[df['Category'] == i]['TotalStrength'].mean()) > allmean:\n",
    "            print(f'{round(df[df['Category'] == i]['TotalStrength'].mean(), 2)} is higher than the {allmean} mean of all categories.\\n')\n",
    "        else:\n",
    "            print(f'{round(df[df['Category'] == i]['TotalStrength'].mean(), 2)} is lower than the {allmean} mean of all categories.\\n')\n",
    "\n",
    "categories = ['Strength', 'Agility', 'Intelligence']\n",
    "\n",
    "calc_category_mean(categories)"
   ]
  },
  {
   "cell_type": "code",
   "execution_count": 163,
   "id": "d885bad7-3657-4376-944d-65b014a336c4",
   "metadata": {},
   "outputs": [
    {
     "name": "stdout",
     "output_type": "stream",
     "text": [
      "F-statistic: 34.90856513952278\n",
      "P-value: 1.2912078696995511e-12\n"
     ]
    }
   ],
   "source": [
    "# Create categories\n",
    "c1 = df[df['Category'] == 'Strength']['TotalStrength'].tolist()\n",
    "c2 = df[df['Category'] == 'Agility']['TotalStrength'].tolist()\n",
    "c3 = df[df['Category'] == 'Intelligence']['TotalStrength'].tolist()\n",
    "\n",
    "# Perform one-way ANOVA\n",
    "f_statistic, p_value = stats.f_oneway(c1, c2, c3)\n",
    "\n",
    "print(f\"F-statistic: {f_statistic}\")\n",
    "print(f\"P-value: {p_value}\")"
   ]
  },
  {
   "cell_type": "markdown",
   "id": "a00e1c56-e2eb-45f4-822c-5385053eee48",
   "metadata": {},
   "source": [
    "**F-Statistic** - The ratio of two variances.\n",
    "- Variance Between Groups - Measures how much the group means deviate from the overall mean.\n",
    "- Variance Within Groups - Measures the variability within each group.\n",
    "\n",
    "A higher F-Statistic indicates a larger difference between group means relative to the variability within the groups; this suggests at least one group mean is significantly different from the others. A lower F-Statistic suggets group means are similar to each other, meaning there is little no significant difference between groups."
   ]
  },
  {
   "cell_type": "raw",
   "id": "0e73a171-ab68-44bd-96f4-06b698af11e4",
   "metadata": {},
   "source": [
    "Our ANOVA test generated an F-Statistic of 34.91, which is fairly high. This suggests at least one of the group mean is significantly different from the others, which makes sense since the Strength's group mean is 26.93 while A&I's group mean is ~22."
   ]
  },
  {
   "cell_type": "markdown",
   "id": "591c547e-e457-4686-aa63-635c25718772",
   "metadata": {},
   "source": [
    "**P-Value**\n",
    "\n",
    "A low P-Value (typically <.05) indicates the observed F-Statistic is unlikely to have occured by chance if all group means were equal. Otherwise (if the P Value is >= .05), there is no statistically significant difference between group means."
   ]
  },
  {
   "cell_type": "markdown",
   "id": "b897c68c-ad24-49c5-b8d2-2658925cb360",
   "metadata": {},
   "source": [
    "Our P Value is < .05, which confirms the differences in means between categories are unlikely due to random chance, but rather as an effect of the category."
   ]
  },
  {
   "cell_type": "markdown",
   "id": "6c644e85-d033-4ba2-ab07-cbaf3928a721",
   "metadata": {},
   "source": [
    "**Hypothesis Result**"
   ]
  },
  {
   "cell_type": "raw",
   "id": "341bf4b3-de32-4e6c-9392-fbefd9645842",
   "metadata": {},
   "source": [
    "With our P Value under a significant level of .05, we can reject our null hypothesis and accept our alternative hypothesis that at least one of the hero categories have a mean strength different from the other hero categories."
   ]
  }
 ],
 "metadata": {
  "kernelspec": {
   "display_name": "Python 3 (ipykernel)",
   "language": "python",
   "name": "python3"
  },
  "language_info": {
   "codemirror_mode": {
    "name": "ipython",
    "version": 3
   },
   "file_extension": ".py",
   "mimetype": "text/x-python",
   "name": "python",
   "nbconvert_exporter": "python",
   "pygments_lexer": "ipython3",
   "version": "3.12.4"
  }
 },
 "nbformat": 4,
 "nbformat_minor": 5
}
